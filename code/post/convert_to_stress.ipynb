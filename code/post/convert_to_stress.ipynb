{
 "cells": [
  {
   "cell_type": "code",
   "execution_count": null,
   "metadata": {},
   "outputs": [],
   "source": [
    "import os\n",
    "import numpy as np\n",
    "import matplotlib.pyplot as plt\n",
    "import scipy\n",
    "import skimage\n",
    "import ImageD11\n",
    "import ImageD11.grain\n",
    "import ImageD11.columnfile\n",
    "import ImageD11.unitcell\n",
    "import xfab\n",
    "import xfab.symmetry\n",
    "import xfab.tools\n",
    "from scipy.ndimage import median_filter, binary_fill_holes, label\n",
    "xfab.CHECKS.activated = False\n",
    "\n",
    "from mpl_toolkits.mplot3d import Axes3D\n",
    "from itertools import product, combinations"
   ]
  },
  {
   "cell_type": "code",
   "execution_count": null,
   "metadata": {},
   "outputs": [],
   "source": [
    "parfile = '/home/ax8427he/workspace/AL_DTU/data/experiment/sam3/layer_bottom/aluS3.par'\n",
    "params = ImageD11.parameters.read_par_file(parfile)\n",
    "dzero_cell = [params.get('cell_'+key) for key in ('_a','_b','_c','alpha','beta','gamma')]\n",
    "B0 = xfab.tools.form_b_mat(dzero_cell) / (np.pi*2)"
   ]
  },
  {
   "cell_type": "code",
   "execution_count": null,
   "metadata": {},
   "outputs": [],
   "source": [
    "\n",
    "\n",
    "# https://next-gen.materialsproject.org/materials/mp-134\n",
    "D_Al = np.array( [\n",
    "        [  104,   73, \t  73,    0,    0, \t 0   ],\n",
    "        [  73, \t 104, \t  73, \t 0,    0, \t 0   ],\n",
    "        [  73, \t  73, \t 104, \t 0,    0, \t 0   ],\n",
    "        [  0, \t  0, \t  0, \t32,    0,    0   ],\n",
    "        [  0, \t  0, \t  0, \t 0,    32, \t 0   ],\n",
    "        [  0, \t  0, \t  0, \t 0,    0,    32  ]] ) # units of GPa     \n",
    "\n",
    "C_c = np.linalg.inv(B0).T\n",
    "E  = np.column_stack((C_c[:, 0], np.cross(C_c[:, 2], C_c[:, 0]), C_c[:, 2]))\n",
    "E /= np.linalg.norm(E, axis=0)\n",
    "\n",
    "def to_tensor( s ):\n",
    "    e11, e22, e33, e12, e13, e23 = s\n",
    "    return np.array([[e11,e12,e13],[e12,e22,e23],[e13,e23,e33]])\n",
    "\n",
    "def to_list( s ):\n",
    "    return np.array( [s[0,0], s[1,1], s[2,2], s[0,1], s[0,2], s[1,2]] )\n",
    "\n",
    "def get_stress_Fe_elastic( strain_sample_tensor, U ):\n",
    "    strain_crystal_tensor =  E.T @( U.T @ strain_sample_tensor @ U ) @ E    \n",
    "    e11, e22, e33, e12, e13, e23 = to_list( strain_crystal_tensor )\n",
    "    strain_crystal_voigt = np.array( [e11, e22, e33, 2*e23, 2*e13, 2*e12] )\n",
    "    stess_crystal_voigt = D_Al @ strain_crystal_voigt\n",
    "    s11, s22, s33, s23, s13, s12 = stess_crystal_voigt\n",
    "    stess_crystal = np.array( [s11, s22, s33, s12, s13, s23] )\n",
    "    stess_crystal_tensor = to_tensor( stess_crystal )\n",
    "    stess_sample_tensor = U @ ( E @ stess_crystal_tensor @ E.T ) @ U.T\n",
    "    return stess_sample_tensor # note that the stress is now in GPa!\n"
   ]
  },
  {
   "cell_type": "code",
   "execution_count": null,
   "metadata": {},
   "outputs": [],
   "source": [
    "X     = np.load('X_coord_gmap.npy')\n",
    "Y     = np.load('Y_coord_gmap.npy')\n",
    "sample = np.fliplr(  np.load('sample_mask_layer_bottom.npy')[2:-2, 2:-2] )\n",
    "ubi_map = np.load('ubi_median_filt_s6.npy', allow_pickle=True ) \n",
    "ipf = np.load('ipf_median_filt_s6.npy', allow_pickle=True ) "
   ]
  },
  {
   "cell_type": "code",
   "execution_count": null,
   "metadata": {},
   "outputs": [],
   "source": [
    "refined_ubi_map_test_strain_0 = np.load('refined_ubi_and_strain_map_com_corrected_test.npy', allow_pickle=True)"
   ]
  },
  {
   "cell_type": "code",
   "execution_count": null,
   "metadata": {},
   "outputs": [],
   "source": [
    "strain_refined = np.zeros_like(ubi_map)\n",
    "for i in range(refined_ubi_map_test_strain_0.shape[0]):\n",
    "    for j in range(refined_ubi_map_test_strain_0.shape[1]):\n",
    "        ubis, strain, npks = refined_ubi_map_test_strain_0[i,j]\n",
    "        refubi = ubi_map[i,j]\n",
    "        if len(npks)>0:\n",
    "            scores = [np.abs(refubi-ubi).sum() for ubi in ubis]\n",
    "            strain_refined[i,j] = strain[np.argmin(scores)]\n"
   ]
  },
  {
   "cell_type": "code",
   "execution_count": null,
   "metadata": {},
   "outputs": [],
   "source": [
    "stress = np.zeros_like(strain_refined)\n",
    "for i in range(stress.shape[0]):\n",
    "    for j in range(stress.shape[1]):\n",
    "        if sample[i,j]:\n",
    "            U = ImageD11.grain.grain(ubi_map[i,j]).u\n",
    "            strain_sample_tensor = strain_refined[i,j]\n",
    "            stress[i,j] = get_stress_Fe_elastic( strain_sample_tensor, U = U )*1e9"
   ]
  },
  {
   "cell_type": "code",
   "execution_count": null,
   "metadata": {},
   "outputs": [],
   "source": [
    "np.save('stress_map_bottom_layer_refined_com_corrected.npy', stress)\n",
    "np.save('strain_map_bottom_layer_refined_com_corrected.npy', strain_refined)"
   ]
  }
 ],
 "metadata": {
  "kernelspec": {
   "display_name": "Python 3",
   "language": "python",
   "name": "python3"
  },
  "language_info": {
   "codemirror_mode": {
    "name": "ipython",
    "version": 3
   },
   "file_extension": ".py",
   "mimetype": "text/x-python",
   "name": "python",
   "nbconvert_exporter": "python",
   "pygments_lexer": "ipython3",
   "version": "3.11.5"
  }
 },
 "nbformat": 4,
 "nbformat_minor": 2
}