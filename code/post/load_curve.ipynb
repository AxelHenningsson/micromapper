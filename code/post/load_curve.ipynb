{
 "cells": [
  {
   "cell_type": "markdown",
   "metadata": {},
   "source": [
    "Plot Load curves, stress vs strain\n",
    "----------------------------------\n",
    "**Data is in text format in sam3_stress_strain.txt and in full xlsx in sam3_stress_strain.xlsx**"
   ]
  },
  {
   "cell_type": "code",
   "execution_count": null,
   "metadata": {},
   "outputs": [],
   "source": [
    "import numpy as np\n",
    "import matplotlib.pyplot as plt\n",
    "\n",
    "strain = {'eng':[], 'true': []}\n",
    "stress = {'eng':[], 'true': []}\n",
    "\n",
    "# read the stress-strain data\n",
    "with open(\"sam3_stress_strain.txt\", \"r\", encoding='UTF-8') as f:\n",
    "    for i,line in enumerate(f.readlines()):\n",
    "        vv = [x for x in line.replace('\\n', '').split('\\t') ]\n",
    "        if len(vv)==4:\n",
    "            val = [float(x) for x in vv] \n",
    "            strain['eng'].append(val[0])\n",
    "            stress['eng'].append(val[1])\n",
    "            strain['true'].append(val[2])\n",
    "            stress['true'].append(val[3])\n",
    "\n",
    "for d in (strain,stress):\n",
    "    for k in d: d[k] = np.array(d[k])\n",
    "\n",
    "# marker for the s3dxrd scan point\n",
    "strain['s3dxrd-eng']  = ( 31.3062, stress['eng'][ np.argmin( np.abs(strain['eng']-31.3062) ) ] )\n",
    "strain['s3dxrd-true'] = ( 27.2362, stress['true'][ np.argmin( np.abs(strain['true']-27.2362) ) ] )"
   ]
  },
  {
   "cell_type": "code",
   "execution_count": null,
   "metadata": {},
   "outputs": [],
   "source": [
    "plt.figure(figsize=(10,9))\n",
    "\n",
    "m = strain['eng'] < strain['s3dxrd-eng'][0]\n",
    "plt.plot(strain['eng'][m], stress['true'][m], c='k', marker='o', linestyle='--', linewidth=2.5, markersize=3)\n",
    "plt.plot(strain['s3dxrd-eng'][0], strain['s3dxrd-true'][1] , 'ro', markersize=24)\n",
    "\n",
    "plt.grid(True)\n",
    "plt.tight_layout()\n",
    "plt.savefig('gallery/true_stress_strain_curve.png', dpi=300, pad_inches=0)\n",
    "plt.show()"
   ]
  },
  {
   "cell_type": "code",
   "execution_count": null,
   "metadata": {},
   "outputs": [],
   "source": [
    "plt.figure(figsize=(10,7))\n",
    "\n",
    "plt.plot(strain['eng'], stress['eng'], c='#377eb8', marker='o', linestyle='--',linewidth=1.5, markersize=3)\n",
    "plt.plot(strain['s3dxrd-eng'][0], strain['s3dxrd-eng'][1] , 'ro', markersize=18)\n",
    "\n",
    "plt.plot(strain['eng'][m], stress['true'][m], c='#ff7f00', marker='^', linestyle='--',linewidth=1.5, markersize=3)\n",
    "plt.plot(strain['s3dxrd-eng'][0], strain['s3dxrd-true'][1] , 'ro', markersize=18)\n",
    "\n",
    "plt.grid(True)\n",
    "plt.tight_layout()\n",
    "plt.savefig('gallery/stress_strain_curves.png', dpi=300, pad_inches=0)\n",
    "\n",
    "plt.show()\n"
   ]
  }
 ],
 "metadata": {
  "kernelspec": {
   "display_name": "Python 3",
   "language": "python",
   "name": "python3"
  },
  "language_info": {
   "codemirror_mode": {
    "name": "ipython",
    "version": 3
   },
   "file_extension": ".py",
   "mimetype": "text/x-python",
   "name": "python",
   "nbconvert_exporter": "python",
   "pygments_lexer": "ipython3",
   "version": "3.11.5"
  }
 },
 "nbformat": 4,
 "nbformat_minor": 2
}